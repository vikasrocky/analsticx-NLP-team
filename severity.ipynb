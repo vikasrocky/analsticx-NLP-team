{
 "cells": [
  {
   "cell_type": "code",
   "execution_count": 1,
   "metadata": {},
   "outputs": [
    {
     "name": "stdout",
     "output_type": "stream",
     "text": [
      "Total severity of the disease for the given symptoms: 3\n",
      "Percentage severity of the disease for the given symptoms: 0.5338078291814946\n"
     ]
    }
   ],
   "source": [
    "import pandas as pd\n",
    "\n",
    "# Load the CSV file containing symptoms and their severity\n",
    "df = pd.read_csv(r\"C:\\Users\\Sambhavi Roy\\Downloads\\Symptom-severity.csv\")\n",
    "\n",
    "# Get the symptoms from the user\n",
    "person_symptoms = input(\"Enter the symptoms separated by commas: \").split(',')\n",
    "\n",
    "# Strip any extra spaces from the symptoms\n",
    "person_symptoms = [symptom.strip() for symptom in person_symptoms]\n",
    "\n",
    "# Filter the DataFrame to only include the person's symptoms\n",
    "severity_df = df[df['Symptom'].isin(person_symptoms)]\n",
    "\n",
    "# Calculate the total severity by summing up the severity scores\n",
    "total_severity = severity_df['weight'].sum()\n",
    "\n",
    "percentage_severity = total_severity*100/562\n",
    "\n",
    "\n",
    "# Print the results\n",
    "print(f'Total severity of the disease for the given symptoms: {total_severity}')\n",
    "print(f'Percentage severity of the disease for the given symptoms: {percentage_severity}')"
   ]
  },
  {
   "cell_type": "code",
   "execution_count": null,
   "metadata": {},
   "outputs": [],
   "source": []
  }
 ],
 "metadata": {
  "kernelspec": {
   "display_name": "base",
   "language": "python",
   "name": "python3"
  },
  "language_info": {
   "codemirror_mode": {
    "name": "ipython",
    "version": 3
   },
   "file_extension": ".py",
   "mimetype": "text/x-python",
   "name": "python",
   "nbconvert_exporter": "python",
   "pygments_lexer": "ipython3",
   "version": "3.11.9"
  }
 },
 "nbformat": 4,
 "nbformat_minor": 2
}
