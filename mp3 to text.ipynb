{
 "cells": [
  {
   "cell_type": "code",
   "execution_count": 6,
   "metadata": {},
   "outputs": [
    {
     "name": "stdout",
     "output_type": "stream",
     "text": [
      "Transcription saved to: C:\\Users\\Sambhavi Roy\\Downloads\\transcription.txt\n"
     ]
    }
   ],
   "source": [
    "import os\n",
    "from pydub import AudioSegment\n",
    "import speech_recognition as sr\n",
    "\n",
    "def convert_mp3_to_wav(mp3_file_path, wav_file_path):\n",
    "    audio = AudioSegment.from_mp3(mp3_file_path)\n",
    "    audio.export(wav_file_path, format=\"wav\")\n",
    "\n",
    "def transcribe_audio(wav_file_path):\n",
    "    recognizer = sr.Recognizer()\n",
    "    with sr.AudioFile(wav_file_path) as source:\n",
    "        audio_data = recognizer.record(source)  # Corrected line\n",
    "        try:\n",
    "            text = recognizer.recognize_google(audio_data)\n",
    "            return text\n",
    "        except sr.UnknownValueError:\n",
    "            return \"Google Speech Recognition could not understand audio\"\n",
    "        except sr.RequestError as e:\n",
    "            return f\"Could not request results from Google Speech Recognition service; {e}\"\n",
    "\n",
    "def convert_and_transcribe(mp3_file_path, output_text_file):\n",
    "    wav_file_path = \"temp_audio.wav\"\n",
    "    convert_mp3_to_wav(mp3_file_path, wav_file_path)\n",
    "    text = transcribe_audio(wav_file_path)\n",
    "    os.remove(wav_file_path)  # Clean up temporary WAV file\n",
    "    with open(output_text_file, 'w') as file:\n",
    "        file.write(text)\n",
    "    return text\n",
    "\n",
    "# Example usage:\n",
    "mp3_file_path = r\"C:\\Users\\Sambhavi Roy\\Downloads\\advertising.mp3\"\n",
    "output_text_file = r\"C:\\Users\\Sambhavi Roy\\Downloads\\transcription.txt\"\n",
    "transcription = convert_and_transcribe(mp3_file_path, output_text_file)\n",
    "print(\"Transcription saved to:\", output_text_file)\n"
   ]
  },
  {
   "cell_type": "code",
   "execution_count": null,
   "metadata": {},
   "outputs": [],
   "source": []
  }
 ],
 "metadata": {
  "kernelspec": {
   "display_name": "base",
   "language": "python",
   "name": "python3"
  },
  "language_info": {
   "codemirror_mode": {
    "name": "ipython",
    "version": 3
   },
   "file_extension": ".py",
   "mimetype": "text/x-python",
   "name": "python",
   "nbconvert_exporter": "python",
   "pygments_lexer": "ipython3",
   "version": "3.11.9"
  }
 },
 "nbformat": 4,
 "nbformat_minor": 2
}
